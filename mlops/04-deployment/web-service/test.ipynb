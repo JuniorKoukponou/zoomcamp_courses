{
 "cells": [
  {
   "cell_type": "code",
   "execution_count": null,
   "metadata": {},
   "outputs": [],
   "source": [
    "from flask import Flask, request, jsonify\n",
    "\n",
    "import predict_raw"
   ]
  },
  {
   "cell_type": "code",
   "execution_count": null,
   "metadata": {},
   "outputs": [],
   "source": [
    "app = Flask(\"duration-prediction\")"
   ]
  },
  {
   "cell_type": "code",
   "execution_count": null,
   "metadata": {},
   "outputs": [],
   "source": [
    "@app.get(\"/predict\")\n",
    "def endpoint():\n",
    "    ride = request.get_json()\n",
    "    features = predict_raw.prepare_features(ride)\n",
    "    preds = predict_raw.predict(features)\n",
    "    result = {\n",
    "        \"duration\": preds\n",
    "    }\n",
    "\n",
    "    return jsonify(result)"
   ]
  }
 ],
 "metadata": {
  "kernelspec": {
   "display_name": "web-service-ZEyr6Bb_",
   "language": "python",
   "name": "python3"
  },
  "language_info": {
   "codemirror_mode": {
    "name": "ipython",
    "version": 3
   },
   "file_extension": ".py",
   "mimetype": "text/x-python",
   "name": "python",
   "nbconvert_exporter": "python",
   "pygments_lexer": "ipython3",
   "version": "3.10.13"
  }
 },
 "nbformat": 4,
 "nbformat_minor": 2
}
